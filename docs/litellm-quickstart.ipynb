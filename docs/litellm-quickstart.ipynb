{
 "cells": [
  {
   "cell_type": "code",
   "execution_count": 2,
   "id": "6da3836b",
   "metadata": {},
   "outputs": [
    {
     "name": "stdout",
     "output_type": "stream",
     "text": [
      "\u001b[2mResolved \u001b[1m116 packages\u001b[0m \u001b[2min 19ms\u001b[0m\u001b[0m\n",
      "\u001b[2mAudited \u001b[1m113 packages\u001b[0m \u001b[2min 26ms\u001b[0m\u001b[0m\n"
     ]
    }
   ],
   "source": [
    "!uv add litellm python-dotenv "
   ]
  },
  {
   "cell_type": "code",
   "execution_count": 3,
   "id": "f14ed112",
   "metadata": {},
   "outputs": [
    {
     "data": {
      "text/plain": [
       "True"
      ]
     },
     "execution_count": 3,
     "metadata": {},
     "output_type": "execute_result"
    }
   ],
   "source": [
    "import litellm\n",
    "import os\n",
    "from dotenv import load_dotenv\n",
    "\n",
    "load_dotenv()"
   ]
  },
  {
   "cell_type": "markdown",
   "id": "eef5e340",
   "metadata": {},
   "source": [
    "Treba mať vytvorený súbor .env s premennými API_KEY a API_BASE:\n",
    "```bash\n",
    "API_KEY=your_api_key_here\n",
    "API_BASE=https://your_api_base_here\n",
    "```\n",
    "API_KEY a API_BASE vám boli dodané vedúcim."
   ]
  },
  {
   "cell_type": "code",
   "execution_count": 4,
   "id": "44c00c43",
   "metadata": {},
   "outputs": [],
   "source": [
    "API_KEY = os.getenv(\"API_KEY\")\n",
    "API_BASE = os.getenv(\"API_BASE\")"
   ]
  },
  {
   "cell_type": "markdown",
   "id": "31f1f6e5",
   "metadata": {},
   "source": [
    "# TLDR"
   ]
  },
  {
   "cell_type": "code",
   "execution_count": 7,
   "id": "fa46f81f",
   "metadata": {},
   "outputs": [
    {
     "data": {
      "text/plain": [
       "ModelResponse(id='chatcmpl-CVk7l5fopnhxn89Y58B8cicVwioOy', created=1761681505, model='gpt-4.1-nano-2025-04-14', object='chat.completion', system_fingerprint='fp_950f36939b', choices=[Choices(finish_reason='stop', index=0, message=Message(content=\"Hello! I'm doing well, thank you. How can I assist you today?\", role='assistant', tool_calls=None, function_call=None, provider_specific_fields={'refusal': None}, annotations=[]), provider_specific_fields={})], usage=Usage(completion_tokens=16, prompt_tokens=13, total_tokens=29, completion_tokens_details=CompletionTokensDetailsWrapper(accepted_prediction_tokens=0, audio_tokens=0, reasoning_tokens=0, rejected_prediction_tokens=0, text_tokens=None), prompt_tokens_details=PromptTokensDetailsWrapper(audio_tokens=0, cached_tokens=0, text_tokens=None, image_tokens=None)), service_tier='default')"
      ]
     },
     "execution_count": 7,
     "metadata": {},
     "output_type": "execute_result"
    }
   ],
   "source": [
    "response = litellm.completion(\n",
    "    model=\"openai/gpt-4.1-nano-fiit\", # model ID\n",
    "    messages=[{\"content\": \"Hello, how are you?\", \"role\": \"user\"}], # chat messages v openai formate (user, system, assistant)\n",
    "    api_key=API_KEY,\n",
    "    api_base=API_BASE,\n",
    ")\n",
    "response"
   ]
  },
  {
   "cell_type": "code",
   "execution_count": 10,
   "id": "8dbc1200",
   "metadata": {},
   "outputs": [
    {
     "name": "stdout",
     "output_type": "stream",
     "text": [
      "{\"data\":[{\"id\":\"gpt-4.1-nano-fiit\",\"object\":\"model\",\"created\":1677610602,\"owned_by\":\"openai\"},{\"id\":\"gpt-4.1-mini-fiit\",\"object\":\"model\",\"created\":1677610602,\"owned_by\":\"openai\"},{\"id\":\"gpt-5-fiit\",\"object\":\"model\",\"created\":1677610602,\"owned_by\":\"openai\"},{\"id\":\"claude-haiku-4.5-fiit\",\"object\":\"model\",\"created\":1677610602,\"owned_by\":\"openai\"},{\"id\":\"gpt-4.1-fiit\",\"object\":\"model\",\"created\":1677610602,\"owned_by\":\"openai\"},{\"id\":\"claude-sonnet-4.5-fiit\",\"object\":\"model\",\"created\":1677610602,\"owned_by\":\"openai\"}],\"object\":\"list\"}"
     ]
    }
   ],
   "source": [
    "!curl -X GET \"{API_BASE}/v1/models\" -H \"Authorization: Bearer {API_KEY}\""
   ]
  },
  {
   "cell_type": "markdown",
   "id": "e156efc9",
   "metadata": {},
   "source": [
    "Všetky modely, ktoré sú dostupné pre tvoj API_KEY a API_BASE\n",
    "\n",
    "- ako \"model\" parameter do litellm zadávaš \"id\", takže `openai/gpt-4.1-nano-fiit` a nie `openai/gpt-4.1`"
   ]
  },
  {
   "cell_type": "markdown",
   "id": "7cbec6ec",
   "metadata": {},
   "source": [
    "# Viac info\n",
    "\n",
    "- litellm dokumentácia: [litellm.ai/docs](https://docs.litellm.ai/docs)\n",
    "- batch call - [batching_completion](https://docs.litellm.ai/docs/completion/batching)\n",
    "- steaming - [stream+async](https://docs.litellm.ai/docs/completion/stream)"
   ]
  }
 ],
 "metadata": {
  "kernelspec": {
   "display_name": "docs (3.12.10)",
   "language": "python",
   "name": "python3"
  },
  "language_info": {
   "codemirror_mode": {
    "name": "ipython",
    "version": 3
   },
   "file_extension": ".py",
   "mimetype": "text/x-python",
   "name": "python",
   "nbconvert_exporter": "python",
   "pygments_lexer": "ipython3",
   "version": "3.12.10"
  }
 },
 "nbformat": 4,
 "nbformat_minor": 5
}
